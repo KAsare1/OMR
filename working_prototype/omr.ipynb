{
 "cells": [
  {
   "cell_type": "code",
   "execution_count": 78,
   "id": "initial_id",
   "metadata": {
    "ExecuteTime": {
     "end_time": "2024-07-28T11:40:00.670119Z",
     "start_time": "2024-07-28T11:40:00.665118Z"
    },
    "collapsed": true
   },
   "outputs": [],
   "source": [
    "import cv2\n",
    "import numpy as np\n",
    "import matplotlib.pyplot as plt"
   ]
  },
  {
   "cell_type": "code",
   "execution_count": 79,
   "id": "44a2bd99ebc6f519",
   "metadata": {
    "ExecuteTime": {
     "end_time": "2024-07-28T11:40:00.921121Z",
     "start_time": "2024-07-28T11:40:00.905119Z"
    }
   },
   "outputs": [],
   "source": [
    "def preprocess(imgPath):\n",
    "    image = cv2.imread(imgPath)\n",
    "    imageGray = cv2.cvtColor(image, cv2.COLOR_BGR2GRAY)\n",
    "    imageNoiseReduction = cv2.GaussianBlur(imageGray, (5,5), 1)\n",
    "    _, binary = cv2.threshold(imageNoiseReduction, 0, 255, cv2.THRESH_BINARY_INV + cv2.THRESH_OTSU)\n",
    "    imageEdges = cv2.Canny(binary, 10, 50)\n",
    "    img_contours = image.copy()\n",
    "    contours, hierarchy = cv2.findContours(imageEdges, cv2.RETR_EXTERNAL, cv2.CHAIN_APPROX_NONE)\n",
    "    cv2.drawContours(img_contours, contours, -1, (0, 255, 0), 10)\n",
    "    return contours, hierarchy, image"
   ]
  },
  {
   "cell_type": "code",
   "execution_count": 80,
   "id": "2209d03d9d4456a1",
   "metadata": {
    "ExecuteTime": {
     "end_time": "2024-07-28T11:40:01.169122Z",
     "start_time": "2024-07-28T11:40:01.147121Z"
    }
   },
   "outputs": [],
   "source": [
    "def rectangle_contour(imgPath):\n",
    "    contours,hierarchy, image = preprocess(imgPath)\n",
    "    rect_contours = []\n",
    "    for i in contours:\n",
    "        area = cv2.contourArea(i)\n",
    "        if area>100:\n",
    "            peri = cv2.arcLength(i, True)\n",
    "            approx = cv2.approxPolyDP(i, 0.02*peri, True)\n",
    "            if len(approx) == 4:\n",
    "                rect_contours.append(i)\n",
    "\n",
    "    rect_contours = sorted(rect_contours, key=cv2.contourArea, reverse=True)\n",
    "    return rect_contours"
   ]
  },
  {
   "cell_type": "code",
   "execution_count": 81,
   "id": "83be1d76d48a3ec6",
   "metadata": {
    "ExecuteTime": {
     "end_time": "2024-07-28T11:40:01.401118Z",
     "start_time": "2024-07-28T11:40:01.384118Z"
    }
   },
   "outputs": [],
   "source": [
    "def getCornerPoints(cont):\n",
    "    peri = cv2.arcLength(cont, True)\n",
    "    approx = cv2.approxPolyDP(cont, 0.02*peri, True)\n",
    "    \n",
    "    return approx"
   ]
  },
  {
   "cell_type": "code",
   "execution_count": 82,
   "id": "ab70414b8acc8b79",
   "metadata": {
    "ExecuteTime": {
     "end_time": "2024-07-28T11:40:01.620099Z",
     "start_time": "2024-07-28T11:40:01.608102Z"
    }
   },
   "outputs": [],
   "source": [
    "def reorder(myPoints):\n",
    "    myPoints = myPoints.reshape((4,2))\n",
    "    myPointsNew = np.zeros((4,1,2), np.int32)\n",
    "    add = myPoints.sum(axis=1)\n",
    "    myPointsNew[0] = myPoints[np.argmin(add)]\n",
    "    myPointsNew[3] = myPoints[np.argmin(add)]\n",
    "    diff = np.diff(myPoints, axis=1)\n",
    "    myPointsNew[1] = myPoints[np.argmin(diff)]\n",
    "    myPointsNew[2] = myPoints[np.argmin(diff)]\n",
    "\n",
    "    return myPointsNew"
   ]
  },
  {
   "cell_type": "code",
   "execution_count": 83,
   "id": "6c7c257539d9ad6c",
   "metadata": {
    "ExecuteTime": {
     "end_time": "2024-07-28T11:40:01.852100Z",
     "start_time": "2024-07-28T11:40:01.836103Z"
    }
   },
   "outputs": [],
   "source": [
    "def region_of_interest(imgPath):\n",
    "     contour, hierarchy, image = preprocess(imgPath)\n",
    "     img_answered = image.copy()\n",
    "     widthImg = 1200\n",
    "     heightImg =  1200\n",
    "     captured_regions = []\n",
    "     rectCon = rectangle_contour(imgPath)\n",
    "     for i in range(3):\n",
    "        answered_objectives = getCornerPoints(rectCon[i])\n",
    "        if answered_objectives.size != 0:\n",
    "            cv2.drawContours(img_answered, answered_objectives, -1, (255, 255, 255), 50)\n",
    "            reorder(answered_objectives)\n",
    "\n",
    "            pt1 = np.float32(answered_objectives)\n",
    "            pt2 = np.float32([[0,0], [widthImg, 0], [widthImg, heightImg], [0,heightImg]])\n",
    "\n",
    "            matrix = cv2.getPerspectiveTransform(pt1, pt2)\n",
    "            imgWarp = cv2.warpPerspective(img_answered, matrix, (widthImg, heightImg))\n",
    "            imgFlipped = cv2.flip(imgWarp, 1)\n",
    "            imgRotated = cv2.rotate(imgFlipped, cv2.ROTATE_90_COUNTERCLOCKWISE)\n",
    "            captured_regions.append(imgRotated)\n",
    "     return captured_regions     "
   ]
  },
  {
   "cell_type": "code",
   "execution_count": 84,
   "id": "154b76855016658b",
   "metadata": {
    "ExecuteTime": {
     "end_time": "2024-07-28T11:40:02.084099Z",
     "start_time": "2024-07-28T11:40:02.069099Z"
    }
   },
   "outputs": [],
   "source": [
    "def thresholding(imgPath):\n",
    "    thresholded_images =[]\n",
    "    imageThreshold = []\n",
    "    for image in region_of_interest(imgPath):\n",
    "        detectedImage = cv2.cvtColor(image, cv2.COLOR_BGR2RGB)\n",
    "        detectedImage = cv2.cvtColor(detectedImage, cv2.COLOR_RGB2GRAY)\n",
    "        imageThreshold = cv2.threshold(detectedImage, 150, 255, cv2.THRESH_BINARY_INV)[1]\n",
    "        thresholded_images.append(imageThreshold)\n",
    "    return thresholded_images, imageThreshold    "
   ]
  },
  {
   "cell_type": "code",
   "execution_count": 85,
   "id": "2fc25b7b8a573f3a",
   "metadata": {
    "ExecuteTime": {
     "end_time": "2024-07-28T11:40:02.398100Z",
     "start_time": "2024-07-28T11:40:02.385100Z"
    }
   },
   "outputs": [],
   "source": [
    "def get_section_coordinates(image_height, num_sections=4):\n",
    "    section_height = (image_height // num_sections)-5\n",
    "    coordinates = [(i * section_height, (i + 1) * section_height) for i in range(num_sections)]\n",
    "    print(coordinates)\n",
    "    return coordinates\n"
   ]
  },
  {
   "cell_type": "code",
   "execution_count": 86,
   "id": "e3fee9cfc7ef887f",
   "metadata": {
    "ExecuteTime": {
     "end_time": "2024-07-28T11:40:02.681767Z",
     "start_time": "2024-07-28T11:40:02.670765Z"
    }
   },
   "outputs": [],
   "source": [
    "def splitBoxes(img, y_coordinates, splits_per_section=5):\n",
    "    boxes = []\n",
    "    for y1, y2 in y_coordinates:\n",
    "        section = img[y1:y2, :]\n",
    "        # Ensure the number of rows in the section is divisible by splits_per_section\n",
    "        pad_size = (splits_per_section - section.shape[0] % splits_per_section) % splits_per_section\n",
    "        section_padded = np.pad(section, ((0, pad_size), (0, 0)), mode='constant', constant_values=255)\n",
    "\n",
    "        rows = np.vsplit(section_padded, splits_per_section)\n",
    "        for row in rows:\n",
    "            # Ensure the number of columns in the row is divisible by 6\n",
    "            col_pad_size = (6 - row.shape[1] % 6) % 6\n",
    "            row_padded = np.pad(row, ((0, 0), (0, col_pad_size)), mode='constant', constant_values=255)\n",
    "            cols = np.hsplit(row_padded, 6)\n",
    "            for box in cols:\n",
    "                boxes.append(box)\n",
    "    return boxes"
   ]
  },
  {
   "cell_type": "code",
   "execution_count": 87,
   "id": "3e813e14239f8e0e",
   "metadata": {
    "ExecuteTime": {
     "end_time": "2024-07-28T11:40:03.024349Z",
     "start_time": "2024-07-28T11:40:03.005352Z"
    }
   },
   "outputs": [],
   "source": [
    "def region_identification(img):\n",
    "    non_zero_pixels = cv2.countNonZero(img)\n",
    "    if non_zero_pixels > 2200:\n",
    "        return \"41\"\n",
    "    elif 2000 < non_zero_pixels <= 2200:  \n",
    "        return \"21\"\n",
    "    elif non_zero_pixels <= 2000:  \n",
    "        return \"1\"\n",
    "    else:\n",
    "        return \"Unknown\""
   ]
  },
  {
   "cell_type": "code",
   "execution_count": 88,
   "id": "31ac4828d9d1d8b9",
   "metadata": {
    "ExecuteTime": {
     "end_time": "2024-07-28T11:40:03.367220Z",
     "start_time": "2024-07-28T11:40:03.349217Z"
    }
   },
   "outputs": [],
   "source": [
    "def dict_image(imgPath):\n",
    "    thresholded_images, imageThreshold = thresholding(imgPath)\n",
    "    image_height = imageThreshold.shape[0]\n",
    "    y_coordinates = get_section_coordinates(image_height, num_sections=4)\n",
    "    first_image_dict = {}\n",
    "    for image in thresholded_images:\n",
    "        boxes = splitBoxes(image, y_coordinates)\n",
    "        first_image_key = boxes[0]\n",
    "        regionId = region_identification(first_image_key)\n",
    "        first_image_dict[regionId] = boxes\n",
    "    return first_image_dict    "
   ]
  },
  {
   "cell_type": "code",
   "execution_count": 89,
   "id": "f0b3a147c5b57b57",
   "metadata": {
    "ExecuteTime": {
     "end_time": "2024-07-28T11:40:03.944647Z",
     "start_time": "2024-07-28T11:40:03.934650Z"
    }
   },
   "outputs": [],
   "source": [
    "def marking(boxes, number_of_questions=20, choices=6):\n",
    "    pixel_values = np.zeros((number_of_questions, choices))\n",
    "    count_c = 0\n",
    "    count_r = 0\n",
    "\n",
    "    for img in boxes:\n",
    "        total_pixels = cv2.countNonZero(img)\n",
    "        pixel_values[count_r][count_c] = total_pixels\n",
    "        count_c += 1\n",
    "        if count_c == choices:\n",
    "            count_r += 1\n",
    "            count_c = 0\n",
    "        my_index = []\n",
    "        \n",
    "    for x in range(number_of_questions):\n",
    "        arr = pixel_values[x]\n",
    "        my_index_val = np.argmax(arr)  # Find the index of the maximum value in the row\n",
    "        my_index.append(my_index_val)\n",
    "\n",
    "    return my_index"
   ]
  },
  {
   "cell_type": "code",
   "execution_count": 90,
   "id": "f8c048f69d3e3215",
   "metadata": {
    "ExecuteTime": {
     "end_time": "2024-07-28T11:40:05.219159Z",
     "start_time": "2024-07-28T11:40:04.626445Z"
    }
   },
   "outputs": [
    {
     "name": "stdout",
     "output_type": "stream",
     "text": [
      "[(0, 295), (295, 590), (590, 885), (885, 1180)]\n"
     ]
    }
   ],
   "source": [
    "image_dict = dict_image('images/answer_sheet_original_marked_one.jpg')\n",
    "\n"
   ]
  },
  {
   "cell_type": "code",
   "execution_count": 91,
   "id": "eb5234aad5aa769",
   "metadata": {
    "ExecuteTime": {
     "end_time": "2024-07-28T11:40:07.363231Z",
     "start_time": "2024-07-28T11:40:07.349238Z"
    }
   },
   "outputs": [],
   "source": [
    "image_dict = {k:marking(v) for k,v in image_dict.items()}"
   ]
  },
  {
   "cell_type": "code",
   "execution_count": 92,
   "id": "5686a58146a6643a",
   "metadata": {
    "ExecuteTime": {
     "end_time": "2024-07-28T11:40:12.370822Z",
     "start_time": "2024-07-28T11:40:12.346824Z"
    }
   },
   "outputs": [
    {
     "data": {
      "text/plain": [
       "{'41': [4, 5, 5, 5, 5, 5, 5, 5, 5, 5, 5, 5, 5, 5, 5, 0, 5, 5, 5, 0],\n",
       " '21': [4, 5, 5, 5, 5, 5, 5, 5, 5, 5, 5, 5, 5, 5, 5, 5, 5, 5, 5, 0],\n",
       " '1': [1, 2, 3, 1, 3, 2, 5, 3, 4, 1, 3, 3, 2, 5, 3, 2, 3, 1, 3, 5]}"
      ]
     },
     "execution_count": 92,
     "metadata": {},
     "output_type": "execute_result"
    }
   ],
   "source": [
    "image_dict"
   ]
  },
  {
   "cell_type": "code",
   "execution_count": 93,
   "id": "644fb22b62ae20cb",
   "metadata": {
    "ExecuteTime": {
     "end_time": "2024-07-28T11:55:39.926419Z",
     "start_time": "2024-07-28T11:55:39.915394Z"
    }
   },
   "outputs": [],
   "source": [
    "def marker(imagePath):\n",
    "    image_dict = dict_image(imagePath)\n",
    "    marked_dict = {k: marking(v) for k, v in image_dict.items()}\n",
    "    \n",
    "    # Ensure the dictionary is JSON serializable\n",
    "    def make_serializable(obj):\n",
    "        if isinstance(obj, np.ndarray):\n",
    "            return obj.tolist()\n",
    "        if isinstance(obj, np.integer):\n",
    "            return int(obj)\n",
    "        if isinstance(obj, np.floating):\n",
    "            return float(obj)\n",
    "        return obj\n",
    "\n",
    "    serializable_dict = {k: make_serializable(v) for k, v in marked_dict.items()}\n",
    "    \n",
    "    return serializable_dict"
   ]
  },
  {
   "cell_type": "code",
   "execution_count": 94,
   "id": "9956e15e247d71ff",
   "metadata": {
    "ExecuteTime": {
     "end_time": "2024-07-28T12:04:20.183917Z",
     "start_time": "2024-07-28T12:04:19.682918Z"
    }
   },
   "outputs": [
    {
     "name": "stdout",
     "output_type": "stream",
     "text": [
      "[(0, 295), (295, 590), (590, 885), (885, 1180)]\n"
     ]
    },
    {
     "data": {
      "text/plain": [
       "{'41': [4, 5, 5, 5, 5, 5, 5, 5, 5, 5, 5, 5, 5, 5, 5, 0, 5, 5, 5, 0],\n",
       " '21': [4, 5, 5, 5, 5, 5, 5, 5, 5, 5, 5, 5, 5, 5, 5, 5, 5, 5, 5, 0],\n",
       " '1': [1, 2, 3, 1, 3, 2, 5, 3, 4, 1, 3, 3, 2, 5, 3, 2, 3, 1, 3, 5]}"
      ]
     },
     "execution_count": 94,
     "metadata": {},
     "output_type": "execute_result"
    }
   ],
   "source": [
    "marker(imagePath='images/answer_sheet_original_marked_one.jpg')"
   ]
  },
  {
   "cell_type": "code",
   "execution_count": 95,
   "id": "a5296f3e67b90545",
   "metadata": {
    "ExecuteTime": {
     "end_time": "2024-07-28T13:07:28.389800Z",
     "start_time": "2024-07-28T13:07:28.367805Z"
    }
   },
   "outputs": [],
   "source": [
    "def compare_grades(dict1, dict2):\n",
    "    total_grade = 0\n",
    "    max_grade = 60\n",
    "    \n",
    "    # Ensure both dictionaries have the same keys\n",
    "    if dict1.keys() != dict2.keys():\n",
    "        return \"Dictionaries have different keys\"\n",
    "    \n",
    "    # Iterate through each key\n",
    "    for key in dict1.keys():\n",
    "        grades1 = dict1[key]\n",
    "        grades2 = dict2[key]\n",
    "        \n",
    "        # Ensure both lists have the same length\n",
    "        if len(grades1) != len(grades2):\n",
    "            return \"Grade lists have different lengths for key: {}\".format(key)\n",
    "        \n",
    "        # Compare grades at each index\n",
    "        for i in range(len(grades1)):\n",
    "            if grades1[i] == grades2[i]:\n",
    "                total_grade += grades1[i]\n",
    "    \n",
    "    return min(total_grade, max_grade)"
   ]
  },
  {
   "cell_type": "code",
   "execution_count": 96,
   "id": "a0818cfd1c7f9900",
   "metadata": {
    "ExecuteTime": {
     "end_time": "2024-07-28T13:07:28.980803Z",
     "start_time": "2024-07-28T13:07:28.962805Z"
    }
   },
   "outputs": [],
   "source": [
    "result = compare_grades(image_dict, image_dict)\n",
    "\n",
    "\n"
   ]
  },
  {
   "cell_type": "code",
   "execution_count": 97,
   "id": "8298a943412b8a92",
   "metadata": {
    "ExecuteTime": {
     "end_time": "2024-07-28T13:07:31.320237Z",
     "start_time": "2024-07-28T13:07:31.292200Z"
    }
   },
   "outputs": [
    {
     "name": "stdout",
     "output_type": "stream",
     "text": [
      "Total grade: 60\n"
     ]
    }
   ],
   "source": [
    "print(\"Total grade:\", result)"
   ]
  },
  {
   "cell_type": "code",
   "execution_count": null,
   "id": "347a952fd4e788f9",
   "metadata": {},
   "outputs": [],
   "source": []
  }
 ],
 "metadata": {
  "kernelspec": {
   "display_name": "Python 3",
   "language": "python",
   "name": "python3"
  },
  "language_info": {
   "codemirror_mode": {
    "name": "ipython",
    "version": 3
   },
   "file_extension": ".py",
   "mimetype": "text/x-python",
   "name": "python",
   "nbconvert_exporter": "python",
   "pygments_lexer": "ipython3",
   "version": "3.11.0"
  }
 },
 "nbformat": 4,
 "nbformat_minor": 5
}
